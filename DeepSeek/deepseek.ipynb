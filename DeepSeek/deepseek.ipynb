{
 "cells": [
  {
   "cell_type": "markdown",
   "id": "c67de37f-7dd0-4570-b19f-10f1a52fbbd1",
   "metadata": {},
   "source": [
    "# 主要是在deepseek 充值了10元 500Wtoken 应用\n",
    "https://platform.deepseek.com/api_keys"
   ]
  },
  {
   "cell_type": "code",
   "execution_count": null,
   "id": "0c36ed52-5ec8-4fac-8720-a3c50e59db84",
   "metadata": {},
   "outputs": [
    {
     "ename": "",
     "evalue": "",
     "output_type": "error",
     "traceback": [
      "\u001b[1;31mRunning cells with 'Python 3.12.7' requires the ipykernel package.\n",
      "\u001b[1;31mRun the following command to install 'ipykernel' into the Python environment. \n",
      "\u001b[1;31mCommand: '/opt/homebrew/bin/python3.12 -m pip install ipykernel -U --user --force-reinstall'"
     ]
    }
   ],
   "source": [
    "import os\n",
    "from openai import OpenAI\n",
    "\n",
    "token = os.environ[\"DEEPSEEK_KEY\"]\n",
    "\n",
    "\n",
    "client = OpenAI(api_key=token, base_url=\"https://api.deepseek.com\")\n",
    "\n",
    "# Round 1\n",
    "messages = [{\"role\": \"user\", \"content\": \"What's the highest mountain in the world?\"}]\n",
    "response = client.chat.completions.create(\n",
    "    model=\"deepseek-chat\",\n",
    "    messages=messages\n",
    ")\n",
    "\n",
    "messages.append(response.choices[0].message)\n",
    "print(f\"Messages Round 1: {messages}\")\n",
    "\n",
    "# Round 2\n",
    "messages.append({\"role\": \"user\", \"content\": \"What is the second?\"})\n",
    "response = client.chat.completions.create(\n",
    "    model=\"deepseek-chat\",\n",
    "    messages=messages\n",
    ")\n",
    "\n",
    "messages.append(response.choices[0].message)\n",
    "print(f\"Messages Round 2: {messages}\")"
   ]
  },
  {
   "cell_type": "code",
   "execution_count": null,
   "id": "ff34a0e4-6f58-4b3f-b3c4-453bca4bf0cf",
   "metadata": {},
   "outputs": [],
   "source": []
  }
 ],
 "metadata": {
  "kernelspec": {
   "display_name": "Python 3 (ipykernel)",
   "language": "python",
   "name": "python3"
  },
  "language_info": {
   "codemirror_mode": {
    "name": "ipython",
    "version": 3
   },
   "file_extension": ".py",
   "mimetype": "text/x-python",
   "name": "python",
   "nbconvert_exporter": "python",
   "pygments_lexer": "ipython3",
   "version": "3.12.7"
  }
 },
 "nbformat": 4,
 "nbformat_minor": 5
}
