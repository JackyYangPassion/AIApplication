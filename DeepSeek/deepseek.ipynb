{
 "cells": [
  {
   "cell_type": "markdown",
   "id": "c67de37f-7dd0-4570-b19f-10f1a52fbbd1",
   "metadata": {},
   "source": [
    "# 主要是在deepseek 充值了10元 500Wtoken 应用\n",
    "https://platform.deepseek.com/api_keys"
   ]
  },
  {
   "cell_type": "code",
   "execution_count": 1,
   "id": "0c36ed52-5ec8-4fac-8720-a3c50e59db84",
   "metadata": {},
   "outputs": [
    {
     "name": "stdout",
     "output_type": "stream",
     "text": [
      "Messages Round 1: [{'role': 'user', 'content': \"What's the highest mountain in the world?\"}, ChatCompletionMessage(content='The highest mountain in the world is **Mount Everest**, which is located in the Mahalangur Himal sub-range of the Himalayas. Its peak reaches an elevation of **8,848.86 meters (29,031.7 feet)** above sea level, as measured by recent surveys. Mount Everest straddles the border between **Nepal** and **Tibet (China)** and is a prominent destination for mountaineers, though it poses significant challenges due to its extreme altitude and harsh conditions.', refusal=None, role='assistant', function_call=None, tool_calls=None)]\n",
      "Messages Round 2: [{'role': 'user', 'content': \"What's the highest mountain in the world?\"}, ChatCompletionMessage(content='The highest mountain in the world is **Mount Everest**, which is located in the Mahalangur Himal sub-range of the Himalayas. Its peak reaches an elevation of **8,848.86 meters (29,031.7 feet)** above sea level, as measured by recent surveys. Mount Everest straddles the border between **Nepal** and **Tibet (China)** and is a prominent destination for mountaineers, though it poses significant challenges due to its extreme altitude and harsh conditions.', refusal=None, role='assistant', function_call=None, tool_calls=None), {'role': 'user', 'content': 'What is the second?'}, ChatCompletionMessage(content='The second-highest mountain in the world is **K2**, also known as **Mount Godwin-Austen** or **Chhogori**. It stands at **8,611 meters (28,251 feet)** above sea level. K2 is located in the **Karakoram Range**, on the border between **Pakistan** (in the Gilgit-Baltistan region) and **China** (in the Xinjiang region). \\n\\nK2 is often considered more challenging to climb than Mount Everest due to its steep slopes, unpredictable weather, and technical difficulties. It is sometimes referred to as the **\"Savage Mountain\"** because of its high fatality rate among climbers.', refusal=None, role='assistant', function_call=None, tool_calls=None)]\n"
     ]
    }
   ],
   "source": [
    "import os\n",
    "from openai import OpenAI\n",
    "\n",
    "token = os.environ[\"DEEPSEEK_KEY\"]\n",
    "\n",
    "\n",
    "client = OpenAI(api_key=token, base_url=\"https://api.deepseek.com\")\n",
    "\n",
    "# Round 1\n",
    "messages = [{\"role\": \"user\", \"content\": \"What's the highest mountain in the world?\"}]\n",
    "response = client.chat.completions.create(\n",
    "    model=\"deepseek-chat\",\n",
    "    messages=messages\n",
    ")\n",
    "\n",
    "messages.append(response.choices[0].message)\n",
    "print(f\"Messages Round 1: {messages}\")\n",
    "\n",
    "# Round 2\n",
    "messages.append({\"role\": \"user\", \"content\": \"What is the second?\"})\n",
    "response = client.chat.completions.create(\n",
    "    model=\"deepseek-chat\",\n",
    "    messages=messages\n",
    ")\n",
    "\n",
    "messages.append(response.choices[0].message)\n",
    "print(f\"Messages Round 2: {messages}\")"
   ]
  },
  {
   "cell_type": "code",
   "execution_count": null,
   "id": "ff34a0e4-6f58-4b3f-b3c4-453bca4bf0cf",
   "metadata": {},
   "outputs": [],
   "source": []
  }
 ],
 "metadata": {
  "kernelspec": {
   "display_name": "Python 3 (ipykernel)",
   "language": "python",
   "name": "python3"
  },
  "language_info": {
   "codemirror_mode": {
    "name": "ipython",
    "version": 3
   },
   "file_extension": ".py",
   "mimetype": "text/x-python",
   "name": "python",
   "nbconvert_exporter": "python",
   "pygments_lexer": "ipython3",
   "version": "3.9.6"
  }
 },
 "nbformat": 4,
 "nbformat_minor": 5
}
